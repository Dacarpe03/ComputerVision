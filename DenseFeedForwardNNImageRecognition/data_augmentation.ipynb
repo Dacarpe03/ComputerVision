{
 "cells": [
  {
   "cell_type": "markdown",
   "id": "58a8c593",
   "metadata": {},
   "source": [
    "## Images path\n",
    "Point to the folder where the images are"
   ]
  },
  {
   "cell_type": "code",
   "execution_count": 1,
   "id": "fd0015b9",
   "metadata": {},
   "outputs": [],
   "source": [
    "images_path = \"../../ImagenesPractica/xview_recognition/\""
   ]
  },
  {
   "cell_type": "markdown",
   "id": "ef8e2a9b",
   "metadata": {},
   "source": [
    "## Define categories\n",
    "Define the categories of the images (DON'T MODIFY)"
   ]
  },
  {
   "cell_type": "code",
   "execution_count": 19,
   "id": "efede36c",
   "metadata": {},
   "outputs": [],
   "source": [
    "categories = {13: 'CARGO_PLANE', 15: 'HELICOPTER', 18: 'SMALL_CAR', 19: 'BUS', 23: 'TRUCK', 41: 'MOTORBOAT', 47: 'FISHING_VESSEL', 60: 'DUMP_TRUCK', 64: 'EXCAVATOR', 73: 'BUILDING', 86: 'STORAGE_TANK', 91: 'SHIPPING_CONTAINER'}"
   ]
  },
  {
   "cell_type": "markdown",
   "id": "086fa292",
   "metadata": {},
   "source": [
    "## Transformations for data augmentation\n",
    "Operations of rotation and flip.  \n",
    "For each image we will rotate 90 degrees 3 times, then we will flip the original image and rotate it 90 degrees another 3 times more.  \n",
    "For each image we will get 8 more."
   ]
  },
  {
   "cell_type": "code",
   "execution_count": 5,
   "id": "51aea35c",
   "metadata": {},
   "outputs": [],
   "source": [
    "def rotate_left(img):\n",
    "    rotated_image = cv2.rotate(img, cv2.ROTATE_90_COUNTERCLOCKWISE)\n",
    "    return rotated_image\n",
    "\n",
    "def rotate_right(img):\n",
    "    rotated_image = cv2.rotate(img, cv2.ROTATE_90_CLOCKWISE)\n",
    "    return rotated_image\n",
    "\n",
    "def rotate_180(img):\n",
    "    rotated_image = cv2.rotate(img, cv2.ROTATE_180)\n",
    "    return rotated_image\n",
    "\n",
    "def flip_image(img):\n",
    "    flipped_image = cv2.flip(img, 1)\n",
    "    return flipped_image"
   ]
  },
  {
   "cell_type": "code",
   "execution_count": 63,
   "id": "f0cfcaf1",
   "metadata": {},
   "outputs": [],
   "source": [
    "def save_image(my_image, filename):\n",
    "    cv2.imwrite(filename, my_image)"
   ]
  },
  {
   "cell_type": "markdown",
   "id": "40fada28",
   "metadata": {},
   "source": [
    "## Code to perform data augmentation for an image\n",
    "This code will create the 8 different images and also create the json data for each transformation"
   ]
  },
  {
   "cell_type": "code",
   "execution_count": 64,
   "id": "7fb28d87",
   "metadata": {},
   "outputs": [],
   "source": [
    "import cv2\n",
    "\n",
    "def create_img_json(base_image_id, base_file_name, new_ending):\n",
    "    new_img_json = {\n",
    "        'id': base_image_id + new_ending,\n",
    "        'file_name': base_file_name + new_ending + '.tif',\n",
    "        'width': 224, \n",
    "        'height': 224\n",
    "    }\n",
    "    return new_img_json\n",
    "\n",
    "def create_ann_json(base_image_id, category_id, new_ending):\n",
    "    new_ann_json = {\n",
    "        'id': 1,\n",
    "        'image_id': base_image_id + new_ending,\n",
    "        'category_id': category_id,\n",
    "        'bbox': [0, 0, 224, 224], \n",
    "        'iscrowd': 0\n",
    "    }\n",
    "    return new_ann_json\n",
    "\n",
    "def create_new_images(json_img, json_ann):\n",
    "    new_json_imgs = []\n",
    "    new_json_anns = []\n",
    "    \n",
    "    base_image_id = json_img['id']\n",
    "    base_file_name = json_img['file_name'].replace(\".tif\",\"\")\n",
    "    category_id = json_ann['category_id']\n",
    "    \n",
    "    # Read original image\n",
    "    original_image = cv2.imread(base_file_name+\".tif\")\n",
    "    \n",
    "    # Rotate image left and save image and create new json data\n",
    "    rotated_left_image = rotate_left(original_image)\n",
    "    # save_image(rotated_left_image, base_file_name+'rli.tif')\n",
    "    rli_img_json = create_img_json(base_image_id, base_file_name, 'rli')\n",
    "    rli_ann_json = create_ann_json(base_image_id, category_id, 'rli')\n",
    "    new_json_imgs.append(rli_img_json)\n",
    "    new_json_anns.append(rli_ann_json)\n",
    "    \n",
    "    # Rotate image right and save image and create new json data\n",
    "    rotated_right_image = rotate_right(original_image)\n",
    "    # save_image(rotated_right_image, base_file_name+'rri.tif')\n",
    "    rri_img_json = create_img_json(base_image_id, base_file_name, 'rri')\n",
    "    rri_ann_json = create_ann_json(base_image_id, category_id, 'rri')\n",
    "    new_json_imgs.append(rri_img_json)\n",
    "    new_json_anns.append(rri_ann_json)\n",
    "    \n",
    "    # Rotate image 180 degrees and save image and create new json data\n",
    "    rotated_180_image = rotate_180(original_image)\n",
    "    # save_image(rotated_180_image, base_file_name+'rii.tif')\n",
    "    rii_img_json = create_img_json(base_image_id, base_file_name, 'rii')\n",
    "    rii_ann_json = create_ann_json(base_image_id, category_id, 'rii')\n",
    "    new_json_imgs.append(rii_img_json)\n",
    "    new_json_anns.append(rii_ann_json)\n",
    "    \n",
    "    # Flip and save image and create new json data\n",
    "    flipped_image = flip_image(original_image)\n",
    "    # save_image(flipped_image, base_file_name+'fi.tif')\n",
    "    fi_img_json = create_img_json(base_image_id, base_file_name, 'fi')\n",
    "    fi_ann_json = create_ann_json(base_image_id, category_id, 'fi')\n",
    "    new_json_imgs.append(fi_img_json)\n",
    "    new_json_anns.append(fi_ann_json)\n",
    "    \n",
    "    # Rotate fliped left and save image and create new json data\n",
    "    flipped_rotated_left_image = rotate_left(flipped_image)\n",
    "    # save_image(flipped_rotated_left_image, base_file_name+'fli.tif')\n",
    "    fli_img_json = create_img_json(base_image_id, base_file_name, 'fli')\n",
    "    fli_ann_json = create_ann_json(base_image_id, category_id, 'fli')\n",
    "    new_json_imgs.append(fli_img_json)\n",
    "    new_json_anns.append(fli_ann_json)\n",
    "    \n",
    "    # Rotate flipped right and save image and create new json data\n",
    "    flipped_rotated_right_image = rotate_right(flipped_image)\n",
    "    # save_image(flipped_rotated_right_image, base_file_name+'fri.tif')\n",
    "    fri_img_json = create_img_json(base_image_id, base_file_name, 'fri')\n",
    "    fri_ann_json = create_ann_json(base_image_id, category_id, 'fri')\n",
    "    new_json_imgs.append(fri_img_json)\n",
    "    new_json_anns.append(fri_ann_json)\n",
    "    \n",
    "    # Rotate flipped 180 degrees and save image and create new json data\n",
    "    flipped_rotated_180_image = rotate_180(flipped_image)\n",
    "    # save_image(flipped_rotated_180_image, base_file_name+'fii.tif')\n",
    "    fii_img_json = create_img_json(base_image_id, base_file_name, 'fii')\n",
    "    fii_ann_json = create_ann_json(base_image_id, category_id, 'fii')\n",
    "    new_json_imgs.append(fii_img_json)\n",
    "    new_json_anns.append(fii_ann_json)\n",
    "    \n",
    "    return new_json_imgs, new_json_anns"
   ]
  },
  {
   "cell_type": "markdown",
   "id": "1c00e487",
   "metadata": {},
   "source": [
    "## Load our data base\n",
    "Be sure to pick the correct json. DO THIS WITH **train.json**"
   ]
  },
  {
   "cell_type": "code",
   "execution_count": 65,
   "id": "2cf25013",
   "metadata": {},
   "outputs": [],
   "source": [
    "import json\n",
    "# Load database\n",
    "json_file = ''\n",
    "with open(json_file) as ifs:\n",
    "    json_data = json.load(ifs)\n",
    "ifs.close()"
   ]
  },
  {
   "cell_type": "markdown",
   "id": "d193c903",
   "metadata": {},
   "source": [
    "## Let's take a look at our data\n",
    "We have a lot of images for SMALL_CAR, BUS, TRUCK, and BUILDING. We need more of the rest of categories.  \n",
    "The output of this cell shows the frequency of each class **before** data augmentation."
   ]
  },
  {
   "cell_type": "code",
   "execution_count": 66,
   "id": "d9c462b6",
   "metadata": {},
   "outputs": [
    {
     "name": "stdout",
     "output_type": "stream",
     "text": [
      "{'CARGO_PLANE': 628, 'HELICOPTER': 49, 'SMALL_CAR': 195133, 'BUS': 6549, 'TRUCK': 10640, 'MOTORBOAT': 1231, 'FISHING_VESSEL': 736, 'DUMP_TRUCK': 1238, 'EXCAVATOR': 706, 'BUILDING': 283491, 'STORAGE_TANK': 1462, 'SHIPPING_CONTAINER': 1522}\n"
     ]
    }
   ],
   "source": [
    "import json\n",
    "import numpy as np\n",
    "counts = dict.fromkeys(categories.values(), 0)\n",
    "for json_img, json_ann in zip(json_data['images'], json_data['annotations']):\n",
    "    obj.category = list(categories.values())[json_ann['category_id']-1]\n",
    "    counts[obj.category] += 1\n",
    "\n",
    "print(counts)"
   ]
  },
  {
   "cell_type": "markdown",
   "id": "920917e6",
   "metadata": {},
   "source": [
    "## Data augmentation\n",
    "We will perform data augmentation now. Don't run this more than once."
   ]
  },
  {
   "cell_type": "code",
   "execution_count": 67,
   "id": "c8a9ad18",
   "metadata": {},
   "outputs": [
    {
     "name": "stdout",
     "output_type": "stream",
     "text": [
      "{'CARGO_PLANE': 628, 'HELICOPTER': 49, 'SMALL_CAR': 195133, 'BUS': 6549, 'TRUCK': 10640, 'MOTORBOAT': 1231, 'FISHING_VESSEL': 736, 'DUMP_TRUCK': 1238, 'EXCAVATOR': 706, 'BUILDING': 283491, 'STORAGE_TANK': 1462, 'SHIPPING_CONTAINER': 1522}\n"
     ]
    }
   ],
   "source": [
    "import json\n",
    "import numpy as np\n",
    "counts = dict.fromkeys(categories.values(), 0)\n",
    "anns = []\n",
    "new_images = []\n",
    "new_annotations = []\n",
    "for json_img, json_ann in zip(json_data['images'], json_data['annotations']):\n",
    "    \n",
    "    obj.category = list(categories.values())[json_ann['category_id']-1]\n",
    "    \n",
    "    # Data augmentation for categories that have low images\n",
    "    if obj.category not in ['SMALL_CAR', 'BUS', 'TRUCK', 'BUILDING']:\n",
    "        augmented_images, augmented_annotations = create_new_images(json_img, json_ann)\n",
    "        new_images += augmented_images\n",
    "        new_annotations += augmented_annotations\n",
    "        \n",
    "    counts[obj.category] += 1\n",
    "    \n",
    "json_data['images'] += new_images\n",
    "json_data['annotations'] += new_annotations\n",
    "\n",
    "with open('your_file.json', \"w\") as file:\n",
    "    json.dump(json_data, file)"
   ]
  },
  {
   "cell_type": "markdown",
   "id": "9d3b0a2a",
   "metadata": {},
   "source": [
    "## Results\n",
    "In the below cell the new frequencies are shown after the data augmentation"
   ]
  },
  {
   "cell_type": "code",
   "execution_count": 69,
   "id": "b3ce3f17",
   "metadata": {},
   "outputs": [
    {
     "name": "stdout",
     "output_type": "stream",
     "text": [
      "{'CARGO_PLANE': 5024, 'HELICOPTER': 392, 'SMALL_CAR': 195133, 'BUS': 6549, 'TRUCK': 10640, 'MOTORBOAT': 9848, 'FISHING_VESSEL': 5888, 'DUMP_TRUCK': 9904, 'EXCAVATOR': 5648, 'BUILDING': 283491, 'STORAGE_TANK': 11696, 'SHIPPING_CONTAINER': 12176}\n"
     ]
    }
   ],
   "source": [
    "import json\n",
    "import numpy as np\n",
    "counts = dict.fromkeys(categories.values(), 0)\n",
    "for json_img, json_ann in zip(json_data['images'], json_data['annotations']):\n",
    "    obj.category = list(categories.values())[json_ann['category_id']-1]\n",
    "    counts[obj.category] += 1\n",
    "\n",
    "print(counts)"
   ]
  }
 ],
 "metadata": {
  "kernelspec": {
   "display_name": "Python 3 (ipykernel)",
   "language": "python",
   "name": "python3"
  },
  "language_info": {
   "codemirror_mode": {
    "name": "ipython",
    "version": 3
   },
   "file_extension": ".py",
   "mimetype": "text/x-python",
   "name": "python",
   "nbconvert_exporter": "python",
   "pygments_lexer": "ipython3",
   "version": "3.10.4"
  }
 },
 "nbformat": 4,
 "nbformat_minor": 5
}
